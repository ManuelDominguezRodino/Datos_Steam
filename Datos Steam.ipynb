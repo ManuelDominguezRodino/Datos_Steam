{
 "cells": [
  {
   "cell_type": "markdown",
   "id": "1e15e643",
   "metadata": {},
   "source": [
    "# Proyecto Steam\n",
    "**Autor**: Manuel Mauricio Domínguez-Rodiño Ruano\n",
    "\n",
    "El propósito de este notebook es el de estudiar los juegos lanzados en la plataforma de steam por 10 editoriales de videojuegos."
   ]
  },
  {
   "cell_type": "code",
   "execution_count": 1,
   "id": "1391b0cb",
   "metadata": {},
   "outputs": [],
   "source": [
    "import csv\n",
    "from datetime import datetime\n",
    "from collections import namedtuple\n",
    "from matplotlib import pyplot as plt"
   ]
  },
  {
   "cell_type": "markdown",
   "id": "c6e2eec5",
   "metadata": {},
   "source": [
    "## 1.Lectura"
   ]
  },
  {
   "cell_type": "markdown",
   "id": "e7b8963e",
   "metadata": {},
   "source": [
    "Los datos se encuentran almacenados en un fichero en formato CSV codificado en UTF-8."
   ]
  },
  {
   "cell_type": "code",
   "execution_count": 12,
   "id": "b399dbb4",
   "metadata": {},
   "outputs": [],
   "source": [
    "Juego = namedtuple ('Juego', 'name,release_date,developer,publisher,steamspy_tags,positive_ratings,negative_ratings,price')\n",
    "def lee_juegos(fichero):\n",
    "    with open (fichero, 'r', encoding='utf8') as f:\n",
    "        lector = csv.reader(f)\n",
    "        next(lector)\n",
    "        juegos= [Juego(name,datetime.strptime(release_date,'%d/%m/%Y').date(),developer,publisher,steamspy_tags,int(positive_ratings),int(negative_ratings),int(price)) for name,release_date,developer,publisher,steamspy_tags,positive_ratings,negative_ratings,price in lector]\n",
    "    return juegos"
   ]
  },
  {
   "cell_type": "code",
   "execution_count": 13,
   "id": "4d062ad9",
   "metadata": {},
   "outputs": [
    {
     "name": "stdout",
     "output_type": "stream",
     "text": [
      "[Juego(name='Counter-Strike', release_date=datetime.date(2000, 11, 1), developer='Valve', publisher='Valve', steamspy_tags='Action,FPS,Multiplayer', positive_ratings=124534, negative_ratings=3339, price=719), Juego(name='Team Fortress Classic', release_date=datetime.date(1999, 4, 1), developer='Valve', publisher='Valve', steamspy_tags='Action,FPS,Multiplayer', positive_ratings=3318, negative_ratings=633, price=399), Juego(name='Day of Defeat', release_date=datetime.date(2003, 5, 1), developer='Valve', publisher='Valve', steamspy_tags='FPS,World War II,Multiplayer', positive_ratings=3416, negative_ratings=398, price=399), Juego(name='Deathmatch Classic', release_date=datetime.date(2001, 6, 1), developer='Valve', publisher='Valve', steamspy_tags='Action,FPS,Multiplayer', positive_ratings=1273, negative_ratings=267, price=399), Juego(name='Half-Life: Opposing Force', release_date=datetime.date(1999, 11, 1), developer='Gearbox Software', publisher='Valve', steamspy_tags='FPS,Action,Sci-fi', positive_ratings=5250, negative_ratings=288, price=399)]\n"
     ]
    }
   ],
   "source": [
    "juegos = lee_juegos(\"./Data/Juegos de Steam Final.csv\")\n",
    "print(juegos[:5])"
   ]
  },
  {
   "cell_type": "markdown",
   "id": "ac02b035",
   "metadata": {},
   "source": [
    "Los valores que tenemos son el título del juego en string, la fecha de salida, en dormato datetime, el nombre de tanto la desarrolladora como la editorial en string, las etiquetas más adecuadas para cada juego en un string con comas, la cantidad de reviews tanto positivas como negativas en interger y por último el precio de cada producto en céntimos de dólar tambien en interger."
   ]
  },
  {
   "cell_type": "markdown",
   "id": "a1235491",
   "metadata": {},
   "source": [
    "## 2.Consulta y Filtrado"
   ]
  },
  {
   "cell_type": "code",
   "execution_count": 19,
   "id": "09e29fa2",
   "metadata": {},
   "outputs": [],
   "source": [
    "def cuenta_desarrolladores(lista):\n",
    "    Publishers={p.publisher for p in lista}\n",
    "    return Publishers"
   ]
  },
  {
   "cell_type": "code",
   "execution_count": 50,
   "id": "2616a984",
   "metadata": {},
   "outputs": [
    {
     "data": {
      "text/plain": [
       "{'Activision',\n",
       " 'Devolver Digital',\n",
       " 'Electronic Arts',\n",
       " 'Konami Digital Entertainment',\n",
       " 'Rockstar Games',\n",
       " 'SEGA',\n",
       " 'Square Enix',\n",
       " 'Team17 Digital Ltd',\n",
       " 'Ubisoft',\n",
       " 'Valve'}"
      ]
     },
     "execution_count": 50,
     "metadata": {},
     "output_type": "execute_result"
    }
   ],
   "source": [
    "cuenta_desarrolladores(juegos)"
   ]
  },
  {
   "cell_type": "code",
   "execution_count": 52,
   "id": "1072e20c",
   "metadata": {},
   "outputs": [],
   "source": [
    "def juegos_por_publisher(lista,publisher):\n",
    "    return [p for p in lista if p.publisher==publisher]"
   ]
  },
  {
   "cell_type": "code",
   "execution_count": 53,
   "id": "53ac2691",
   "metadata": {},
   "outputs": [
    {
     "data": {
      "text/plain": [
       "[Juego(name='Serious Sam HD: The First Encounter', release_date=datetime.date(2009, 11, 24), developer='Croteam', publisher='Devolver Digital', steamspy_tags='FPS,Action,Co-op', positive_ratings=3950, negative_ratings=269, price=1099),\n",
       " Juego(name='Serious Sam 3: BFE', release_date=datetime.date(2011, 11, 22), developer='Croteam', publisher='Devolver Digital', steamspy_tags='FPS,Action,Co-op', positive_ratings=15574, negative_ratings=1977, price=2999),\n",
       " Juego(name='Serious Sam: The Random Encounter', release_date=datetime.date(2011, 10, 24), developer='Vlambeer,Croteam', publisher='Devolver Digital', steamspy_tags='Action,Indie,RPG', positive_ratings=330, negative_ratings=310, price=399),\n",
       " Juego(name='Serious Sam 2', release_date=datetime.date(2012, 1, 31), developer='Croteam', publisher='Devolver Digital', steamspy_tags='Action,FPS,Co-op', positive_ratings=5353, negative_ratings=702, price=699),\n",
       " Juego(name='Hotline Miami', release_date=datetime.date(2012, 10, 23), developer='Dennaton Games', publisher='Devolver Digital', steamspy_tags='Great Soundtrack,Action,Violent', positive_ratings=45809, negative_ratings=1211, price=699)]"
      ]
     },
     "execution_count": 53,
     "metadata": {},
     "output_type": "execute_result"
    }
   ],
   "source": [
    "juegos_por_publisher(juegos, 'Devolver Digital')[:5]"
   ]
  },
  {
   "cell_type": "code",
   "execution_count": 66,
   "id": "87a2d6ec",
   "metadata": {},
   "outputs": [
    {
     "data": {
      "text/plain": [
       "[Juego(name='Counter-Strike', release_date=datetime.date(2000, 11, 1), developer='Valve', publisher='Valve', steamspy_tags='Action,FPS,Multiplayer', positive_ratings=124534, negative_ratings=3339, price=719),\n",
       " Juego(name='Team Fortress Classic', release_date=datetime.date(1999, 4, 1), developer='Valve', publisher='Valve', steamspy_tags='Action,FPS,Multiplayer', positive_ratings=3318, negative_ratings=633, price=399),\n",
       " Juego(name='Day of Defeat', release_date=datetime.date(2003, 5, 1), developer='Valve', publisher='Valve', steamspy_tags='FPS,World War II,Multiplayer', positive_ratings=3416, negative_ratings=398, price=399),\n",
       " Juego(name='Deathmatch Classic', release_date=datetime.date(2001, 6, 1), developer='Valve', publisher='Valve', steamspy_tags='Action,FPS,Multiplayer', positive_ratings=1273, negative_ratings=267, price=399),\n",
       " Juego(name='Ricochet', release_date=datetime.date(2000, 11, 1), developer='Valve', publisher='Valve', steamspy_tags='Action,FPS,Multiplayer', positive_ratings=2758, negative_ratings=684, price=399)]"
      ]
     },
     "execution_count": 66,
     "metadata": {},
     "output_type": "execute_result"
    }
   ],
   "source": [
    "def juegos_in_house(juegos):\n",
    "    return [p for p in juegos if p.developer==p.publisher]\n",
    "juegos_in_house(juegos)[:5]"
   ]
  },
  {
   "cell_type": "markdown",
   "id": "25ae3d84",
   "metadata": {},
   "source": [
    "### Ordenación"
   ]
  },
  {
   "cell_type": "code",
   "execution_count": 24,
   "id": "d18461ab",
   "metadata": {},
   "outputs": [
    {
     "data": {
      "text/plain": [
       "[Juego(name='Half-Life', release_date=datetime.date(1998, 11, 8), developer='Valve', publisher='Valve', steamspy_tags='FPS,Classic,Action', positive_ratings=27755, negative_ratings=1100, price=719),\n",
       " Juego(name='Team Fortress Classic', release_date=datetime.date(1999, 4, 1), developer='Valve', publisher='Valve', steamspy_tags='Action,FPS,Multiplayer', positive_ratings=3318, negative_ratings=633, price=399),\n",
       " Juego(name='Half-Life: Opposing Force', release_date=datetime.date(1999, 11, 1), developer='Gearbox Software', publisher='Valve', steamspy_tags='FPS,Action,Sci-fi', positive_ratings=5250, negative_ratings=288, price=399),\n",
       " Juego(name='Counter-Strike', release_date=datetime.date(2000, 11, 1), developer='Valve', publisher='Valve', steamspy_tags='Action,FPS,Multiplayer', positive_ratings=124534, negative_ratings=3339, price=719),\n",
       " Juego(name='Ricochet', release_date=datetime.date(2000, 11, 1), developer='Valve', publisher='Valve', steamspy_tags='Action,FPS,Multiplayer', positive_ratings=2758, negative_ratings=684, price=399)]"
      ]
     },
     "execution_count": 24,
     "metadata": {},
     "output_type": "execute_result"
    }
   ],
   "source": [
    "def juegos_por_fecha(lista):\n",
    "    orden= sorted(lista, key=lambda x:x.release_date)\n",
    "    return orden\n",
    "juegos_por_fecha(juegos)[:5]"
   ]
  },
  {
   "cell_type": "markdown",
   "id": "9553ae3e",
   "metadata": {},
   "source": [
    "### Filtrado"
   ]
  },
  {
   "cell_type": "markdown",
   "id": "f1f85847",
   "metadata": {},
   "source": [
    "LISTAS DE JUEGOS POR CATEGORÍAS"
   ]
  },
  {
   "cell_type": "code",
   "execution_count": 68,
   "id": "fe4b5bf9",
   "metadata": {},
   "outputs": [
    {
     "data": {
      "text/plain": [
       "['Indie,Action,Platformer',\n",
       " 'Action,Indie,Multiplayer',\n",
       " 'Action,Casual,Arcade',\n",
       " 'Detective,Adventure,Horror',\n",
       " 'Adventure,Female Protagonist,Action']"
      ]
     },
     "execution_count": 68,
     "metadata": {},
     "output_type": "execute_result"
    }
   ],
   "source": [
    "def categorías(lista):\n",
    "    return {p.steamspy_tags for p in lista}\n",
    "    \n",
    "list(categorías(juegos))[:5]"
   ]
  },
  {
   "cell_type": "code",
   "execution_count": 47,
   "id": "5e92a579",
   "metadata": {},
   "outputs": [
    {
     "data": {
      "text/plain": [
       "['Adventure', 'Co-op', 'Action']"
      ]
     },
     "execution_count": 47,
     "metadata": {},
     "output_type": "execute_result"
    }
   ],
   "source": [
    "def tags(lista):\n",
    "    for p in lista:\n",
    "        etiquetas = p.split(\",\")\n",
    "    return etiquetas\n",
    "\n",
    "tags(categorías(juegos))"
   ]
  },
  {
   "cell_type": "code",
   "execution_count": 59,
   "id": "f75c5ef9",
   "metadata": {},
   "outputs": [],
   "source": [
    "def juegos_por_tags(juegos, tag1, tag2=None, tag3=None):\n",
    "    if tag2==None and tag3==None:\n",
    "        filtro= [p for p in juegos if tag1 in p.steamspy_tags]\n",
    "    elif tag3==None:\n",
    "        filtro= [p for p in juegos if tag1 and tag2 in p.steamspy_tags]\n",
    "    else:\n",
    "        filtro= [p for p in juegos if tag1 and tag2 and tag3 in p.steamspy_tags]\n",
    "    return filtro"
   ]
  },
  {
   "cell_type": "code",
   "execution_count": 62,
   "id": "42cae693",
   "metadata": {},
   "outputs": [
    {
     "data": {
      "text/plain": [
       "[Juego(name='Half-Life', release_date=datetime.date(1998, 11, 8), developer='Valve', publisher='Valve', steamspy_tags='FPS,Classic,Action', positive_ratings=27755, negative_ratings=1100, price=719),\n",
       " Juego(name='Vampire: The Masquerade - Bloodlines', release_date=datetime.date(2007, 3, 22), developer='Troika Games', publisher='Activision', steamspy_tags='RPG,Vampire,Cult Classic', positive_ratings=6161, negative_ratings=362, price=1499),\n",
       " Juego(name=\"King's Quest™ Collection\", release_date=datetime.date(2009, 7, 23), developer='Sierra', publisher='Activision', steamspy_tags='Adventure,Point & Click,Classic', positive_ratings=125, negative_ratings=32, price=1499),\n",
       " Juego(name='Space Quest™ Collection', release_date=datetime.date(2009, 7, 23), developer='Sierra', publisher='Activision', steamspy_tags='Adventure,Point & Click,Classic', positive_ratings=143, negative_ratings=42, price=999),\n",
       " Juego(name='Grand Theft Auto III', release_date=datetime.date(2008, 1, 4), developer='Rockstar Games', publisher='Rockstar Games', steamspy_tags='Open World,Action,Classic', positive_ratings=4718, negative_ratings=750, price=599)]"
      ]
     },
     "execution_count": 62,
     "metadata": {},
     "output_type": "execute_result"
    }
   ],
   "source": [
    "juegos_por_tags(juegos,'3D Platformer','Remake','Classic')[:5]"
   ]
  },
  {
   "cell_type": "markdown",
   "id": "1bfb8813",
   "metadata": {},
   "source": [
    "Listas de juegos por media de puntuación"
   ]
  },
  {
   "cell_type": "code",
   "execution_count": 55,
   "id": "e44046bf",
   "metadata": {},
   "outputs": [],
   "source": [
    "def puntuación(Juego):\n",
    "    (p.positive_ratings/(p.positive_ratings+p.negative_ratings))*100"
   ]
  },
  {
   "cell_type": "code",
   "execution_count": 63,
   "id": "5ec67b8f",
   "metadata": {},
   "outputs": [
    {
     "ename": "NameError",
     "evalue": "name 'p' is not defined",
     "output_type": "error",
     "traceback": [
      "\u001b[1;31m---------------------------------------------------------------------------\u001b[0m",
      "\u001b[1;31mNameError\u001b[0m                                 Traceback (most recent call last)",
      "Input \u001b[1;32mIn [63]\u001b[0m, in \u001b[0;36m<cell line: 1>\u001b[1;34m()\u001b[0m\n\u001b[1;32m----> 1\u001b[0m \u001b[43mpuntuación\u001b[49m\u001b[43m(\u001b[49m\u001b[38;5;124;43m'\u001b[39;49m\u001b[38;5;124;43mTomb Raider I\u001b[39;49m\u001b[38;5;124;43m'\u001b[39;49m\u001b[43m)\u001b[49m\n",
      "Input \u001b[1;32mIn [55]\u001b[0m, in \u001b[0;36mpuntuación\u001b[1;34m(Juego)\u001b[0m\n\u001b[0;32m      1\u001b[0m \u001b[38;5;28;01mdef\u001b[39;00m \u001b[38;5;21mpuntuación\u001b[39m(Juego):\n\u001b[1;32m----> 2\u001b[0m     (\u001b[43mp\u001b[49m\u001b[38;5;241m.\u001b[39mpositive_ratings\u001b[38;5;241m/\u001b[39m(p\u001b[38;5;241m.\u001b[39mpositive_ratings\u001b[38;5;241m+\u001b[39mp\u001b[38;5;241m.\u001b[39mnegative_ratings))\u001b[38;5;241m*\u001b[39m\u001b[38;5;241m100\u001b[39m\n",
      "\u001b[1;31mNameError\u001b[0m: name 'p' is not defined"
     ]
    }
   ],
   "source": [
    "puntuación('Tomb Raider I')"
   ]
  },
  {
   "cell_type": "code",
   "execution_count": null,
   "id": "5eb812ed",
   "metadata": {},
   "outputs": [],
   "source": []
  }
 ],
 "metadata": {
  "kernelspec": {
   "display_name": "Python 3 (ipykernel)",
   "language": "python",
   "name": "python3"
  },
  "language_info": {
   "codemirror_mode": {
    "name": "ipython",
    "version": 3
   },
   "file_extension": ".py",
   "mimetype": "text/x-python",
   "name": "python",
   "nbconvert_exporter": "python",
   "pygments_lexer": "ipython3",
   "version": "3.9.12"
  }
 },
 "nbformat": 4,
 "nbformat_minor": 5
}
